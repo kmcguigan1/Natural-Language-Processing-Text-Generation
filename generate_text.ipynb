{
 "cells": [
  {
   "cell_type": "markdown",
   "metadata": {},
   "source": [
    "# imports and constants"
   ]
  },
  {
   "cell_type": "code",
   "execution_count": 1,
   "metadata": {},
   "outputs": [],
   "source": [
    "import requests\n",
    "import numpy as np\n",
    "\n",
    "import tensorflow as tf\n",
    "\n",
    "from tensorflow.keras.preprocessing.text import Tokenizer\n",
    "from tensorflow.keras.preprocessing.sequence import pad_sequences\n",
    "\n",
    "from tensorflow.keras.models import Sequential\n",
    "from tensorflow.keras.layers import Embedding, Dense, Bidirectional, LSTM\n",
    "\n",
    "IRISH_POETRY = \"https://storage.googleapis.com/laurencemoroney-blog.appspot.com/irish-lyrics-eof.txt\""
   ]
  },
  {
   "cell_type": "markdown",
   "metadata": {},
   "source": [
    "# gather the data and split into scentences"
   ]
  },
  {
   "cell_type": "code",
   "execution_count": 2,
   "metadata": {},
   "outputs": [],
   "source": [
    "def request_data(dataset_url):\n",
    "    # send the get request to the server\n",
    "    response = requests.get(dataset_url)\n",
    "    # convert the response to text format\n",
    "    datastore = response.text\n",
    "    return datastore\n",
    "\n",
    "def read_data(dataset_url):\n",
    "    # get the datastore itself\n",
    "    datastore = request_data(dataset_url)\n",
    "    # convert and split the data\n",
    "    datastore = datastore.lower().split(\"\\n\")\n",
    "    return datastore\n",
    "\n",
    "datastore = read_data(IRISH_POETRY)"
   ]
  },
  {
   "cell_type": "markdown",
   "metadata": {},
   "source": [
    "# create a tokenizer on the words in the dataset"
   ]
  },
  {
   "cell_type": "code",
   "execution_count": 3,
   "metadata": {},
   "outputs": [],
   "source": [
    "def get_tokenizer(datastore):\n",
    "    # create the tokenizer\n",
    "    tokenizer = Tokenizer()\n",
    "    # fit the tokenizer\n",
    "    tokenizer.fit_on_texts(datastore)\n",
    "    # get the total number of words, add one for the oov token\n",
    "    total_words = len(tokenizer.word_index) + 1\n",
    "    return tokenizer, total_words\n",
    "\n",
    "tokenizer, total_words = get_tokenizer(datastore)"
   ]
  },
  {
   "cell_type": "markdown",
   "metadata": {},
   "source": [
    "# transform scentences to sequences"
   ]
  },
  {
   "cell_type": "code",
   "execution_count": 4,
   "metadata": {},
   "outputs": [],
   "source": [
    "def sentences_to_sequences(tokenizer, sentences):\n",
    "    # initialize the input sequences array\n",
    "    input_sequences = []\n",
    "    # iterate over the lines in the sentences\n",
    "    for line in sentences:\n",
    "        # get the token list for this line\n",
    "        token_list = tokenizer.texts_to_sequences([line])[0]\n",
    "        # iterate i from 1 to the total length of the tokenized list\n",
    "        for i in range(1, len(token_list)):\n",
    "            # create a sequence from the start of the sequence until the i-th entry in the sequence\n",
    "            n_gram_sequence = token_list[:i+1]\n",
    "            # append this n_gram_sequence to the input_sequences list\n",
    "            input_sequences.append(n_gram_sequence)\n",
    "    # get the length of the longest input sequence in the list\n",
    "    max_sequence_len = max([len(x) for x in input_sequences])\n",
    "    return input_sequences, max_sequence_len\n",
    "\n",
    "def pad_input_sequences(input_sequences, max_length):\n",
    "    # pad the sequences in the input list\n",
    "    padded_sequences = pad_sequences(input_sequences, maxlen=max_length, padding='pre')\n",
    "    # convert this list to a numpy array\n",
    "    padded_sequences = np.array(padded_sequences)\n",
    "    return padded_sequences\n",
    "\n",
    "input_sequences, max_sequence_len = sentences_to_sequences(tokenizer, datastore)\n",
    "padded_sequences = pad_input_sequences(input_sequences, max_sequence_len)"
   ]
  },
  {
   "cell_type": "markdown",
   "metadata": {},
   "source": [
    "# convert the data to data for the model"
   ]
  },
  {
   "cell_type": "code",
   "execution_count": 5,
   "metadata": {},
   "outputs": [],
   "source": [
    "def data_to_train_data(input_sequences, total_words):\n",
    "    # get all the words leading up to the last word\n",
    "    xs = input_sequences[:, :-1]\n",
    "    # get the last word in every sequence\n",
    "    labels = input_sequences[:, -1]\n",
    "    # transform these labels into categories\n",
    "    ys = tf.keras.utils.to_categorical(labels, num_classes=total_words)\n",
    "    return xs, ys\n",
    "\n",
    "xs, ys = data_to_train_data(padded_sequences, total_words)"
   ]
  },
  {
   "cell_type": "markdown",
   "metadata": {},
   "source": [
    "# create the model for our uses"
   ]
  },
  {
   "cell_type": "code",
   "execution_count": 6,
   "metadata": {},
   "outputs": [],
   "source": [
    "def create_model(total_words, max_sequence_len):\n",
    "    model = Sequential()\n",
    "    model.add(Embedding(total_words, 240, input_length=max_sequence_len - 1))\n",
    "    model.add(Bidirectional(LSTM(150)))\n",
    "    model.add(Dense(total_words, activation='softmax'))\n",
    "    model.compile(loss='categorical_crossentropy', optimizer='adam', metrics=['accuracy'])\n",
    "    return model\n",
    "\n",
    "model = create_model(total_words, max_sequence_len)"
   ]
  },
  {
   "cell_type": "markdown",
   "metadata": {},
   "source": [
    "# train the model on the input data"
   ]
  },
  {
   "cell_type": "code",
   "execution_count": 7,
   "metadata": {},
   "outputs": [
    {
     "name": "stdout",
     "output_type": "stream",
     "text": [
      "Epoch 1/50\n",
      "377/377 [==============================] - 18s 40ms/step - loss: 6.9700 - accuracy: 0.0593\n",
      "Epoch 2/50\n",
      "377/377 [==============================] - 13s 35ms/step - loss: 6.2117 - accuracy: 0.0773\n",
      "Epoch 3/50\n",
      "377/377 [==============================] - 13s 34ms/step - loss: 5.8799 - accuracy: 0.0919\n",
      "Epoch 4/50\n",
      "377/377 [==============================] - 13s 34ms/step - loss: 5.5330 - accuracy: 0.1140\n",
      "Epoch 5/50\n",
      "377/377 [==============================] - 13s 35ms/step - loss: 5.0773 - accuracy: 0.1330\n",
      "Epoch 6/50\n",
      "377/377 [==============================] - 13s 34ms/step - loss: 4.6838 - accuracy: 0.1613\n",
      "Epoch 7/50\n",
      "377/377 [==============================] - 13s 34ms/step - loss: 4.3298 - accuracy: 0.1923\n",
      "Epoch 8/50\n",
      "377/377 [==============================] - 13s 34ms/step - loss: 3.9119 - accuracy: 0.2409\n",
      "Epoch 9/50\n",
      "377/377 [==============================] - 13s 34ms/step - loss: 3.5411 - accuracy: 0.2962\n",
      "Epoch 10/50\n",
      "377/377 [==============================] - 15s 40ms/step - loss: 3.2031 - accuracy: 0.3591\n",
      "Epoch 11/50\n",
      "377/377 [==============================] - 13s 35ms/step - loss: 2.8813 - accuracy: 0.4199\n",
      "Epoch 12/50\n",
      "377/377 [==============================] - 12s 32ms/step - loss: 2.5493 - accuracy: 0.4830\n",
      "Epoch 13/50\n",
      "377/377 [==============================] - 12s 33ms/step - loss: 2.2381 - accuracy: 0.5543\n",
      "Epoch 14/50\n",
      "377/377 [==============================] - 14s 36ms/step - loss: 1.9931 - accuracy: 0.6140\n",
      "Epoch 15/50\n",
      "377/377 [==============================] - 14s 37ms/step - loss: 1.7563 - accuracy: 0.6512\n",
      "Epoch 16/50\n",
      "377/377 [==============================] - 15s 39ms/step - loss: 1.5252 - accuracy: 0.7008\n",
      "Epoch 17/50\n",
      "377/377 [==============================] - 15s 39ms/step - loss: 1.3648 - accuracy: 0.7343\n",
      "Epoch 18/50\n",
      "377/377 [==============================] - 13s 34ms/step - loss: 1.2103 - accuracy: 0.7658\n",
      "Epoch 19/50\n",
      "377/377 [==============================] - 13s 33ms/step - loss: 1.0790 - accuracy: 0.7864\n",
      "Epoch 20/50\n",
      "377/377 [==============================] - 13s 34ms/step - loss: 0.9709 - accuracy: 0.8108\n",
      "Epoch 21/50\n",
      "377/377 [==============================] - 12s 33ms/step - loss: 0.8769 - accuracy: 0.8237\n",
      "Epoch 22/50\n",
      "377/377 [==============================] - 13s 35ms/step - loss: 0.8272 - accuracy: 0.8308\n",
      "Epoch 23/50\n",
      "377/377 [==============================] - 13s 33ms/step - loss: 0.7645 - accuracy: 0.8386\n",
      "Epoch 24/50\n",
      "377/377 [==============================] - 13s 33ms/step - loss: 0.7108 - accuracy: 0.8422\n",
      "Epoch 25/50\n",
      "377/377 [==============================] - 13s 34ms/step - loss: 0.6838 - accuracy: 0.8497\n",
      "Epoch 26/50\n",
      "377/377 [==============================] - 13s 33ms/step - loss: 0.6285 - accuracy: 0.8538\n",
      "Epoch 27/50\n",
      "377/377 [==============================] - 13s 33ms/step - loss: 0.6178 - accuracy: 0.8540\n",
      "Epoch 28/50\n",
      "377/377 [==============================] - 13s 33ms/step - loss: 0.5954 - accuracy: 0.8563\n",
      "Epoch 29/50\n",
      "377/377 [==============================] - 13s 33ms/step - loss: 0.5748 - accuracy: 0.8557\n",
      "Epoch 30/50\n",
      "377/377 [==============================] - 13s 33ms/step - loss: 0.5531 - accuracy: 0.8596\n",
      "Epoch 31/50\n",
      "377/377 [==============================] - 13s 33ms/step - loss: 0.5488 - accuracy: 0.8599\n",
      "Epoch 32/50\n",
      "377/377 [==============================] - 13s 33ms/step - loss: 0.5364 - accuracy: 0.8552\n",
      "Epoch 33/50\n",
      "377/377 [==============================] - 13s 33ms/step - loss: 0.5226 - accuracy: 0.8621\n",
      "Epoch 34/50\n",
      "377/377 [==============================] - 13s 33ms/step - loss: 0.5318 - accuracy: 0.8545\n",
      "Epoch 35/50\n",
      "377/377 [==============================] - 13s 33ms/step - loss: 0.5141 - accuracy: 0.8566\n",
      "Epoch 36/50\n",
      "377/377 [==============================] - 13s 33ms/step - loss: 0.4928 - accuracy: 0.8621\n",
      "Epoch 37/50\n",
      "377/377 [==============================] - 13s 34ms/step - loss: 0.5109 - accuracy: 0.8600\n",
      "Epoch 38/50\n",
      "377/377 [==============================] - 13s 33ms/step - loss: 0.5036 - accuracy: 0.8566\n",
      "Epoch 39/50\n",
      "377/377 [==============================] - 13s 33ms/step - loss: 0.5090 - accuracy: 0.8556\n",
      "Epoch 40/50\n",
      "377/377 [==============================] - 13s 34ms/step - loss: 0.5112 - accuracy: 0.8512\n",
      "Epoch 41/50\n",
      "377/377 [==============================] - 13s 34ms/step - loss: 0.4741 - accuracy: 0.8636\n",
      "Epoch 42/50\n",
      "377/377 [==============================] - 13s 33ms/step - loss: 0.4997 - accuracy: 0.8552\n",
      "Epoch 43/50\n",
      "377/377 [==============================] - 13s 34ms/step - loss: 0.5052 - accuracy: 0.8500\n",
      "Epoch 44/50\n",
      "377/377 [==============================] - 13s 34ms/step - loss: 0.4728 - accuracy: 0.8601\n",
      "Epoch 45/50\n",
      "377/377 [==============================] - 13s 33ms/step - loss: 0.4806 - accuracy: 0.8536\n",
      "Epoch 46/50\n",
      "377/377 [==============================] - 13s 33ms/step - loss: 0.4768 - accuracy: 0.8615\n",
      "Epoch 47/50\n",
      "377/377 [==============================] - 13s 33ms/step - loss: 0.4915 - accuracy: 0.8562\n",
      "Epoch 48/50\n",
      "377/377 [==============================] - 13s 33ms/step - loss: 0.4742 - accuracy: 0.8642\n",
      "Epoch 49/50\n",
      "377/377 [==============================] - 13s 33ms/step - loss: 0.4641 - accuracy: 0.8610\n",
      "Epoch 50/50\n",
      "377/377 [==============================] - 13s 33ms/step - loss: 0.4633 - accuracy: 0.8631\n"
     ]
    }
   ],
   "source": [
    "def train_model(model, xs, ys):\n",
    "    hist = model.fit(xs, ys, epochs=50, verbose=1)\n",
    "    return hist\n",
    "\n",
    "hist = train_model(model, xs, ys)"
   ]
  },
  {
   "cell_type": "markdown",
   "metadata": {},
   "source": [
    "# graph the training results"
   ]
  },
  {
   "cell_type": "code",
   "execution_count": 9,
   "metadata": {},
   "outputs": [
    {
     "data": {
      "image/png": "[encoded data removed]",
      "text/plain": [
       "<Figure size 864x864 with 2 Axes>"
      ]
     },
     "metadata": {
      "needs_background": "light"
     },
     "output_type": "display_data"
    }
   ],
   "source": [
    "def graph_results(hist):\n",
    "    import matplotlib.pyplot as plt\n",
    "    fig, axs = plt.subplots(1, 2, figsize=(12, 12))\n",
    "    epochs = hist.epoch\n",
    "    loss = hist.history['loss']\n",
    "    acc = hist.history['accuracy']\n",
    "    axs[0].plot(epochs, loss, label='loss')\n",
    "    axs[1].plot(epochs, acc, label='acc')\n",
    "    axs[0].grid(True, which='both', axis='both')\n",
    "    axs[1].grid(True, which='both', axis='both')\n",
    "    axs[0].set_ylabel('Loss')\n",
    "    axs[1].set_ylabel('Accuracy')\n",
    "    axs[0].set_xlabel('Epoch')\n",
    "    axs[1].set_xlabel('Epoch')\n",
    "    axs[0].legend()\n",
    "    axs[1].legend()\n",
    "    fig.savefig(\"C:\\\\Users\\\\kiern\\\\MyFolders\\\\Code\\\\GitRepositories\\\\Natural-Language-Processing-Text-Generation\\\\results.png\")\n",
    "    plt.show()\n",
    "    return\n",
    "\n",
    "graph_results(hist)"
   ]
  },
  {
   "cell_type": "markdown",
   "metadata": {},
   "source": [
    "# generate new text using the trained model"
   ]
  },
  {
   "cell_type": "code",
   "execution_count": 11,
   "metadata": {},
   "outputs": [
    {
     "name": "stdout",
     "output_type": "stream",
     "text": [
      "I made a poetry machine way for a soldier boy to the town of toome today today and toome today of gone doves gone and ones they eyes of my eyes of night unseen each wind by here and high gone and they steal your eyes are green who no more young sea more rest\n"
     ]
    }
   ],
   "source": [
    "def generate_text(model, tokenizer, max_sequence_len, next_words=50):\n",
    "    seed_text = \"I made a poetry machine\"\n",
    "    for _ in range(next_words):\n",
    "        token_list = tokenizer.texts_to_sequences([seed_text])[0]\n",
    "        token_list = pad_sequences([token_list], maxlen=max_sequence_len - 1, padding='pre')\n",
    "        predicted = model.predict_classes(token_list, verbose=0)\n",
    "        output_word = \"\"\n",
    "        for word, index in tokenizer.word_index.items():\n",
    "            if(index == predicted):\n",
    "                output_word = word\n",
    "                break\n",
    "        seed_text += \" \" + output_word\n",
    "    print(seed_text)\n",
    "    return\n",
    "\n",
    "generate_text(model, tokenizer, max_sequence_len)"
   ]
  },
  {
   "cell_type": "code",
   "execution_count": null,
   "metadata": {},
   "outputs": [],
   "source": []
  }
 ],
 "metadata": {
  "kernelspec": {
   "display_name": "Python 3",
   "language": "python",
   "name": "python3"
  },
  "language_info": {
   "codemirror_mode": {
    "name": "ipython",
    "version": 3
   },
   "file_extension": ".py",
   "mimetype": "text/x-python",
   "name": "python",
   "nbconvert_exporter": "python",
   "pygments_lexer": "ipython3",
   "version": "3.7.9"
  }
 },
 "nbformat": 4,
 "nbformat_minor": 4
}
